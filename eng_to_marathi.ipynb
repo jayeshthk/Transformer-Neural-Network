{
  "nbformat": 4,
  "nbformat_minor": 0,
  "metadata": {
    "colab": {
      "provenance": [],
      "gpuType": "T4"
    },
    "kernelspec": {
      "name": "python3",
      "display_name": "Python 3"
    },
    "language_info": {
      "name": "python"
    },
    "accelerator": "GPU"
  },
  "cells": [
    {
      "cell_type": "code",
      "execution_count": 3,
      "metadata": {
        "id": "J3XIPCUnbnTT"
      },
      "outputs": [],
      "source": [
        "from transformer import Transformer\n",
        "import torch\n",
        "import numpy as np\n",
        "import pandas as pd"
      ]
    },
    {
      "cell_type": "code",
      "source": [
        "file_name=\"./cleaned.csv\""
      ],
      "metadata": {
        "id": "bF9y2ZredjLU"
      },
      "execution_count": 4,
      "outputs": []
    },
    {
      "cell_type": "code",
      "source": [
        "df_eng_mar=pd.read_csv(file_name)"
      ],
      "metadata": {
        "id": "uZTWv_dSdn7t"
      },
      "execution_count": 5,
      "outputs": []
    },
    {
      "cell_type": "code",
      "source": [
        "df_eng_mar.head()"
      ],
      "metadata": {
        "colab": {
          "base_uri": "https://localhost:8080/",
          "height": 206
        },
        "id": "B_D46jBXdqjH",
        "outputId": "68f3742e-c2ca-4686-c645-75ac2c105807"
      },
      "execution_count": 6,
      "outputs": [
        {
          "output_type": "execute_result",
          "data": {
            "text/plain": [
              "  English Marathi\n",
              "0      go      जा\n",
              "1     run      पळ\n",
              "2     run     धाव\n",
              "3     run     पळा\n",
              "4     run    धावा"
            ],
            "text/html": [
              "\n",
              "  <div id=\"df-c7827984-1dc1-4df8-aed3-bcaa2f54452e\" class=\"colab-df-container\">\n",
              "    <div>\n",
              "<style scoped>\n",
              "    .dataframe tbody tr th:only-of-type {\n",
              "        vertical-align: middle;\n",
              "    }\n",
              "\n",
              "    .dataframe tbody tr th {\n",
              "        vertical-align: top;\n",
              "    }\n",
              "\n",
              "    .dataframe thead th {\n",
              "        text-align: right;\n",
              "    }\n",
              "</style>\n",
              "<table border=\"1\" class=\"dataframe\">\n",
              "  <thead>\n",
              "    <tr style=\"text-align: right;\">\n",
              "      <th></th>\n",
              "      <th>English</th>\n",
              "      <th>Marathi</th>\n",
              "    </tr>\n",
              "  </thead>\n",
              "  <tbody>\n",
              "    <tr>\n",
              "      <th>0</th>\n",
              "      <td>go</td>\n",
              "      <td>जा</td>\n",
              "    </tr>\n",
              "    <tr>\n",
              "      <th>1</th>\n",
              "      <td>run</td>\n",
              "      <td>पळ</td>\n",
              "    </tr>\n",
              "    <tr>\n",
              "      <th>2</th>\n",
              "      <td>run</td>\n",
              "      <td>धाव</td>\n",
              "    </tr>\n",
              "    <tr>\n",
              "      <th>3</th>\n",
              "      <td>run</td>\n",
              "      <td>पळा</td>\n",
              "    </tr>\n",
              "    <tr>\n",
              "      <th>4</th>\n",
              "      <td>run</td>\n",
              "      <td>धावा</td>\n",
              "    </tr>\n",
              "  </tbody>\n",
              "</table>\n",
              "</div>\n",
              "    <div class=\"colab-df-buttons\">\n",
              "\n",
              "  <div class=\"colab-df-container\">\n",
              "    <button class=\"colab-df-convert\" onclick=\"convertToInteractive('df-c7827984-1dc1-4df8-aed3-bcaa2f54452e')\"\n",
              "            title=\"Convert this dataframe to an interactive table.\"\n",
              "            style=\"display:none;\">\n",
              "\n",
              "  <svg xmlns=\"http://www.w3.org/2000/svg\" height=\"24px\" viewBox=\"0 -960 960 960\">\n",
              "    <path d=\"M120-120v-720h720v720H120Zm60-500h600v-160H180v160Zm220 220h160v-160H400v160Zm0 220h160v-160H400v160ZM180-400h160v-160H180v160Zm440 0h160v-160H620v160ZM180-180h160v-160H180v160Zm440 0h160v-160H620v160Z\"/>\n",
              "  </svg>\n",
              "    </button>\n",
              "\n",
              "  <style>\n",
              "    .colab-df-container {\n",
              "      display:flex;\n",
              "      gap: 12px;\n",
              "    }\n",
              "\n",
              "    .colab-df-convert {\n",
              "      background-color: #E8F0FE;\n",
              "      border: none;\n",
              "      border-radius: 50%;\n",
              "      cursor: pointer;\n",
              "      display: none;\n",
              "      fill: #1967D2;\n",
              "      height: 32px;\n",
              "      padding: 0 0 0 0;\n",
              "      width: 32px;\n",
              "    }\n",
              "\n",
              "    .colab-df-convert:hover {\n",
              "      background-color: #E2EBFA;\n",
              "      box-shadow: 0px 1px 2px rgba(60, 64, 67, 0.3), 0px 1px 3px 1px rgba(60, 64, 67, 0.15);\n",
              "      fill: #174EA6;\n",
              "    }\n",
              "\n",
              "    .colab-df-buttons div {\n",
              "      margin-bottom: 4px;\n",
              "    }\n",
              "\n",
              "    [theme=dark] .colab-df-convert {\n",
              "      background-color: #3B4455;\n",
              "      fill: #D2E3FC;\n",
              "    }\n",
              "\n",
              "    [theme=dark] .colab-df-convert:hover {\n",
              "      background-color: #434B5C;\n",
              "      box-shadow: 0px 1px 3px 1px rgba(0, 0, 0, 0.15);\n",
              "      filter: drop-shadow(0px 1px 2px rgba(0, 0, 0, 0.3));\n",
              "      fill: #FFFFFF;\n",
              "    }\n",
              "  </style>\n",
              "\n",
              "    <script>\n",
              "      const buttonEl =\n",
              "        document.querySelector('#df-c7827984-1dc1-4df8-aed3-bcaa2f54452e button.colab-df-convert');\n",
              "      buttonEl.style.display =\n",
              "        google.colab.kernel.accessAllowed ? 'block' : 'none';\n",
              "\n",
              "      async function convertToInteractive(key) {\n",
              "        const element = document.querySelector('#df-c7827984-1dc1-4df8-aed3-bcaa2f54452e');\n",
              "        const dataTable =\n",
              "          await google.colab.kernel.invokeFunction('convertToInteractive',\n",
              "                                                    [key], {});\n",
              "        if (!dataTable) return;\n",
              "\n",
              "        const docLinkHtml = 'Like what you see? Visit the ' +\n",
              "          '<a target=\"_blank\" href=https://colab.research.google.com/notebooks/data_table.ipynb>data table notebook</a>'\n",
              "          + ' to learn more about interactive tables.';\n",
              "        element.innerHTML = '';\n",
              "        dataTable['output_type'] = 'display_data';\n",
              "        await google.colab.output.renderOutput(dataTable, element);\n",
              "        const docLink = document.createElement('div');\n",
              "        docLink.innerHTML = docLinkHtml;\n",
              "        element.appendChild(docLink);\n",
              "      }\n",
              "    </script>\n",
              "  </div>\n",
              "\n",
              "\n",
              "<div id=\"df-78881556-9ab6-4f86-b5ef-efc73cdebc3d\">\n",
              "  <button class=\"colab-df-quickchart\" onclick=\"quickchart('df-78881556-9ab6-4f86-b5ef-efc73cdebc3d')\"\n",
              "            title=\"Suggest charts\"\n",
              "            style=\"display:none;\">\n",
              "\n",
              "<svg xmlns=\"http://www.w3.org/2000/svg\" height=\"24px\"viewBox=\"0 0 24 24\"\n",
              "     width=\"24px\">\n",
              "    <g>\n",
              "        <path d=\"M19 3H5c-1.1 0-2 .9-2 2v14c0 1.1.9 2 2 2h14c1.1 0 2-.9 2-2V5c0-1.1-.9-2-2-2zM9 17H7v-7h2v7zm4 0h-2V7h2v10zm4 0h-2v-4h2v4z\"/>\n",
              "    </g>\n",
              "</svg>\n",
              "  </button>\n",
              "\n",
              "<style>\n",
              "  .colab-df-quickchart {\n",
              "      --bg-color: #E8F0FE;\n",
              "      --fill-color: #1967D2;\n",
              "      --hover-bg-color: #E2EBFA;\n",
              "      --hover-fill-color: #174EA6;\n",
              "      --disabled-fill-color: #AAA;\n",
              "      --disabled-bg-color: #DDD;\n",
              "  }\n",
              "\n",
              "  [theme=dark] .colab-df-quickchart {\n",
              "      --bg-color: #3B4455;\n",
              "      --fill-color: #D2E3FC;\n",
              "      --hover-bg-color: #434B5C;\n",
              "      --hover-fill-color: #FFFFFF;\n",
              "      --disabled-bg-color: #3B4455;\n",
              "      --disabled-fill-color: #666;\n",
              "  }\n",
              "\n",
              "  .colab-df-quickchart {\n",
              "    background-color: var(--bg-color);\n",
              "    border: none;\n",
              "    border-radius: 50%;\n",
              "    cursor: pointer;\n",
              "    display: none;\n",
              "    fill: var(--fill-color);\n",
              "    height: 32px;\n",
              "    padding: 0;\n",
              "    width: 32px;\n",
              "  }\n",
              "\n",
              "  .colab-df-quickchart:hover {\n",
              "    background-color: var(--hover-bg-color);\n",
              "    box-shadow: 0 1px 2px rgba(60, 64, 67, 0.3), 0 1px 3px 1px rgba(60, 64, 67, 0.15);\n",
              "    fill: var(--button-hover-fill-color);\n",
              "  }\n",
              "\n",
              "  .colab-df-quickchart-complete:disabled,\n",
              "  .colab-df-quickchart-complete:disabled:hover {\n",
              "    background-color: var(--disabled-bg-color);\n",
              "    fill: var(--disabled-fill-color);\n",
              "    box-shadow: none;\n",
              "  }\n",
              "\n",
              "  .colab-df-spinner {\n",
              "    border: 2px solid var(--fill-color);\n",
              "    border-color: transparent;\n",
              "    border-bottom-color: var(--fill-color);\n",
              "    animation:\n",
              "      spin 1s steps(1) infinite;\n",
              "  }\n",
              "\n",
              "  @keyframes spin {\n",
              "    0% {\n",
              "      border-color: transparent;\n",
              "      border-bottom-color: var(--fill-color);\n",
              "      border-left-color: var(--fill-color);\n",
              "    }\n",
              "    20% {\n",
              "      border-color: transparent;\n",
              "      border-left-color: var(--fill-color);\n",
              "      border-top-color: var(--fill-color);\n",
              "    }\n",
              "    30% {\n",
              "      border-color: transparent;\n",
              "      border-left-color: var(--fill-color);\n",
              "      border-top-color: var(--fill-color);\n",
              "      border-right-color: var(--fill-color);\n",
              "    }\n",
              "    40% {\n",
              "      border-color: transparent;\n",
              "      border-right-color: var(--fill-color);\n",
              "      border-top-color: var(--fill-color);\n",
              "    }\n",
              "    60% {\n",
              "      border-color: transparent;\n",
              "      border-right-color: var(--fill-color);\n",
              "    }\n",
              "    80% {\n",
              "      border-color: transparent;\n",
              "      border-right-color: var(--fill-color);\n",
              "      border-bottom-color: var(--fill-color);\n",
              "    }\n",
              "    90% {\n",
              "      border-color: transparent;\n",
              "      border-bottom-color: var(--fill-color);\n",
              "    }\n",
              "  }\n",
              "</style>\n",
              "\n",
              "  <script>\n",
              "    async function quickchart(key) {\n",
              "      const quickchartButtonEl =\n",
              "        document.querySelector('#' + key + ' button');\n",
              "      quickchartButtonEl.disabled = true;  // To prevent multiple clicks.\n",
              "      quickchartButtonEl.classList.add('colab-df-spinner');\n",
              "      try {\n",
              "        const charts = await google.colab.kernel.invokeFunction(\n",
              "            'suggestCharts', [key], {});\n",
              "      } catch (error) {\n",
              "        console.error('Error during call to suggestCharts:', error);\n",
              "      }\n",
              "      quickchartButtonEl.classList.remove('colab-df-spinner');\n",
              "      quickchartButtonEl.classList.add('colab-df-quickchart-complete');\n",
              "    }\n",
              "    (() => {\n",
              "      let quickchartButtonEl =\n",
              "        document.querySelector('#df-78881556-9ab6-4f86-b5ef-efc73cdebc3d button');\n",
              "      quickchartButtonEl.style.display =\n",
              "        google.colab.kernel.accessAllowed ? 'block' : 'none';\n",
              "    })();\n",
              "  </script>\n",
              "</div>\n",
              "\n",
              "    </div>\n",
              "  </div>\n"
            ],
            "application/vnd.google.colaboratory.intrinsic+json": {
              "type": "dataframe",
              "variable_name": "df_eng_mar",
              "summary": "{\n  \"name\": \"df_eng_mar\",\n  \"rows\": 41028,\n  \"fields\": [\n    {\n      \"column\": \"English\",\n      \"properties\": {\n        \"dtype\": \"string\",\n        \"num_unique_values\": 26473,\n        \"samples\": [\n          \"how many books do you have\",\n          \"tom has a treasure map\",\n          \"which of these rackets is yours\"\n        ],\n        \"semantic_type\": \"\",\n        \"description\": \"\"\n      }\n    },\n    {\n      \"column\": \"Marathi\",\n      \"properties\": {\n        \"dtype\": \"string\",\n        \"num_unique_values\": 40040,\n        \"samples\": [\n          \"\\u0916\\u094b\\u091f\\u0902 \\u092c\\u094b\\u0932\\u0942 \\u0928\\u0915\\u094b\\u0938\",\n          \"\\u0924\\u093f\\u0928\\u0947 \\u0917\\u093e\\u092f\\u0932\\u093e \\u0938\\u0941\\u0930\\u0941\\u0935\\u093e\\u0924 \\u0915\\u0947\\u0932\\u0940\",\n          \"\\u0924\\u0941\\u092e\\u094d\\u0939\\u093e\\u0932\\u093e \\u0939\\u0940 \\u0928\\u094b\\u0915\\u0930\\u0940 \\u0939\\u0935\\u0940 \\u0906\\u0939\\u0947 \\u0915\\u093e \\u0928\\u093e\\u0939\\u0940\"\n        ],\n        \"semantic_type\": \"\",\n        \"description\": \"\"\n      }\n    }\n  ]\n}"
            }
          },
          "metadata": {},
          "execution_count": 6
        }
      ]
    },
    {
      "cell_type": "code",
      "source": [
        "START_TOKEN = ''\n",
        "PADDING_TOKEN = ''\n",
        "END_TOKEN = ''\n",
        "\n",
        "marathi_vocabulary = [START_TOKEN, ' ', '!', '\"', '#', '$', '%', '&', \"'\", '(', ')', '*', '+', ',', '-', '.', '/',\n",
        "                      '0', '1', '2', '3', '4', '5', '6', '7', '8', '9', ':', '<', '=', '>', '?', 'ˌ',\n",
        "                      'अ', 'आ', 'इ', 'ई', 'उ', 'ऊ', 'ऋ', 'ए', 'ऐ', 'ओ', 'औ',\n",
        "                      'क', 'ख', 'ग', 'घ', 'ङ',\n",
        "                      'च', 'छ', 'ज', 'झ', 'ञ',\n",
        "                      'ट', 'ठ', 'ड', 'ढ', 'ण',\n",
        "                      'त', 'थ', 'द', 'ध', 'न',\n",
        "                      'प', 'फ', 'ब', 'भ', 'म',\n",
        "                      'य', 'र', 'ल', 'ळ', 'व', 'श', 'ष', 'स', 'ह',\n",
        "                      'ऽ', 'ा', 'ि', 'ी', 'ु', 'ू', 'ृ', 'ॄ', 'े', 'ै', 'ो', 'ौ', '्', 'य़', 'ॠ', 'ॡ', 'ं', 'ः',\n",
        "                      '०', '१', '२', '३', '४', '५', '६', '७', '८', '९', PADDING_TOKEN, END_TOKEN]\n",
        "\n",
        "english_vocabulary = [START_TOKEN, ' ', '!', '\"', '#', '$', '%', '&', \"'\", '(', ')', '*', '+', ',', '-', '.', '/',\n",
        "                        '0', '1', '2', '3', '4', '5', '6', '7', '8', '9',\n",
        "                        ':', '<', '=', '>', '?', '@',\n",
        "                        '[', '\\\\', ']', '^', '_', '`',\n",
        "                        'a', 'b', 'c', 'd', 'e', 'f', 'g', 'h', 'i', 'j', 'k', 'l',\n",
        "                        'm', 'n', 'o', 'p', 'q', 'r', 's', 't', 'u', 'v', 'w', 'x',\n",
        "                        'y', 'z',\n",
        "                        '{', '|', '}', '~', PADDING_TOKEN, END_TOKEN]"
      ],
      "metadata": {
        "id": "ckBPqJeGdrsD"
      },
      "execution_count": 7,
      "outputs": []
    },
    {
      "cell_type": "code",
      "source": [
        "index_to_marathi_word = {index: word for index, word in enumerate(marathi_vocabulary)}\n",
        "index_to_english_word = {index: word for index, word in enumerate(english_vocabulary)}\n",
        "marathi_to_index = {word: index for index, word in enumerate(marathi_vocabulary)}\n",
        "english_to_index = {word: index for index, word in enumerate(english_vocabulary)}\n",
        "#"
      ],
      "metadata": {
        "id": "7lU-3RpsedHz"
      },
      "execution_count": 8,
      "outputs": []
    },
    {
      "cell_type": "code",
      "source": [],
      "metadata": {
        "id": "U6dKG2-ReysW"
      },
      "execution_count": 8,
      "outputs": []
    },
    {
      "cell_type": "code",
      "source": [
        "english_sentences = df_eng_mar['English'].values.tolist()\n",
        "marathi_sentences = df_eng_mar['Marathi'].values.tolist()"
      ],
      "metadata": {
        "id": "OW-unCyoe7ck"
      },
      "execution_count": 9,
      "outputs": []
    },
    {
      "cell_type": "code",
      "source": [
        "english_sentences[:3],marathi_sentences[:3]"
      ],
      "metadata": {
        "colab": {
          "base_uri": "https://localhost:8080/"
        },
        "id": "4UgcheE8fLQu",
        "outputId": "0dabc122-abe1-4c35-a8b9-66adf5caebf6"
      },
      "execution_count": 10,
      "outputs": [
        {
          "output_type": "execute_result",
          "data": {
            "text/plain": [
              "(['go', 'run', 'run'], ['जा', 'पळ', 'धाव'])"
            ]
          },
          "metadata": {},
          "execution_count": 10
        }
      ]
    },
    {
      "cell_type": "code",
      "source": [
        "np.max([len(x) for x in marathi_sentences])"
      ],
      "metadata": {
        "colab": {
          "base_uri": "https://localhost:8080/"
        },
        "id": "aXUNe_g8fXCM",
        "outputId": "1d7e6701-2f9a-4197-e353-c8acdf3bf3bd"
      },
      "execution_count": 11,
      "outputs": [
        {
          "output_type": "execute_result",
          "data": {
            "text/plain": [
              "183"
            ]
          },
          "metadata": {},
          "execution_count": 11
        }
      ]
    },
    {
      "cell_type": "code",
      "source": [
        "np.max([len(x) for x in english_sentences])"
      ],
      "metadata": {
        "colab": {
          "base_uri": "https://localhost:8080/"
        },
        "id": "s02bd2GmgF4o",
        "outputId": "9c462863-c4d4-455d-bc0c-0e0748db8b60"
      },
      "execution_count": 12,
      "outputs": [
        {
          "output_type": "execute_result",
          "data": {
            "text/plain": [
              "176"
            ]
          },
          "metadata": {},
          "execution_count": 12
        }
      ]
    },
    {
      "cell_type": "code",
      "source": [
        "max_sequence_length=200\n",
        "\n",
        "def is_valid_tokens(sentence, vocabulary):\n",
        "    for token in list(set(sentence)):\n",
        "        if token not in vocabulary:\n",
        "            return False\n",
        "    return True\n",
        "\n",
        "def is_valid_length(sentence, max_sequence_length):\n",
        "    return len(list(sentence)) < (max_sequence_length-1)\n",
        "\n",
        "\n",
        "valid_sentence_indices = []\n",
        "\n",
        "for index in range(len(marathi_sentences)):\n",
        "    marathi_sentence = marathi_sentences[index]\n",
        "    english_sentence = english_sentences[index]\n",
        "    if is_valid_length(marathi_sentence, max_sequence_length) \\\n",
        "    and is_valid_length(english_sentence, max_sequence_length) \\\n",
        "    and is_valid_tokens(marathi_sentence, marathi_vocabulary) :\n",
        "        valid_sentence_indices.append(index)\n",
        "\n",
        "print(\"Number of sentences : \",len(marathi_sentences))\n",
        "print(\"Number of valid sentences : \",len(valid_sentence_indices))"
      ],
      "metadata": {
        "colab": {
          "base_uri": "https://localhost:8080/"
        },
        "id": "63eSE0TggRxb",
        "outputId": "4d46d656-7788-46bd-f769-6455a6e091ce"
      },
      "execution_count": 13,
      "outputs": [
        {
          "output_type": "stream",
          "name": "stdout",
          "text": [
            "Number of sentences :  41028\n",
            "Number of valid sentences :  30226\n"
          ]
        }
      ]
    },
    {
      "cell_type": "code",
      "source": [
        "marathi_sentences = [marathi_sentences[index] for index in valid_sentence_indices]\n",
        "english_sentences = [english_sentences[index] for index in valid_sentence_indices]"
      ],
      "metadata": {
        "id": "_Ky1UfO2hZDm"
      },
      "execution_count": 14,
      "outputs": []
    },
    {
      "cell_type": "code",
      "source": [
        "marathi_sentences[-3:],english_sentences[-3:]"
      ],
      "metadata": {
        "colab": {
          "base_uri": "https://localhost:8080/"
        },
        "id": "q8_yxoqfhhCf",
        "outputId": "44a9f008-ff17-4afa-dff3-5b1148e2b65f"
      },
      "execution_count": 15,
      "outputs": [
        {
          "output_type": "execute_result",
          "data": {
            "text/plain": [
              "(['जेव्हा मी बनवलेला तेम्पुरा थंड होतो तेव्हा त्याचा कुरकुरीतपणा लगेच जातो आणि मग त्याची चव तेवढी चांगली लागत नाही',\n",
              "  'जर धर्म व नीतिमत्ता समानार्थी शब्द असते तर ब्राजील जगातला सर्वात अभ्रष्ट देश असता',\n",
              "  'हड्डींमुळे मासे आवडत नाही असं म्हणणं हे काय मासे नावडण्यासाठी चांगलं कारण नाहीये'],\n",
              " ['when the tempura i make cools down it immediately loses its crispiness and does not taste very good',\n",
              "  'if religion were synonymous with morality brazil would be the most uncorrupted country in the world',\n",
              "  'just saying you do not like fish because of the bones is not really a good reason for not liking fish'])"
            ]
          },
          "metadata": {},
          "execution_count": 15
        }
      ]
    },
    {
      "cell_type": "code",
      "source": [
        "import random\n",
        "list1 = marathi_sentences\n",
        "list2 = english_sentences\n",
        "# Step 1: Combine the lists into a list of tuples\n",
        "combined = list(zip(list1, list2))\n",
        "\n",
        "# Step 2: Shuffle the combined list\n",
        "random.shuffle(combined)\n",
        "\n",
        "# Step 3: Unzip the shuffled list into two lists\n",
        "shuffled_list1, shuffled_list2 = zip(*combined)\n",
        "\n",
        "# Convert the tuples back to lists if needed\n",
        "shuffled_list1 = list(shuffled_list1)\n",
        "shuffled_list2 = list(shuffled_list2)\n",
        "\n",
        "print(\"Shuffled List 1:\", shuffled_list1[-3:])\n",
        "print(\"Shuffled List 2:\", shuffled_list2[-3:])\n"
      ],
      "metadata": {
        "colab": {
          "base_uri": "https://localhost:8080/"
        },
        "id": "ErdfVE9hh9V_",
        "outputId": "4f5def13-90f0-4a24-b8fe-78571f4502fb"
      },
      "execution_count": 16,
      "outputs": [
        {
          "output_type": "stream",
          "name": "stdout",
          "text": [
            "Shuffled List 1: ['ती कोण आहे', 'तू फ्रेंच बोलतेस का', 'मी त्यालाच फोन केलेला']\n",
            "Shuffled List 2: ['who is she', 'do you speak french', 'he is the one i called']\n"
          ]
        }
      ]
    },
    {
      "cell_type": "code",
      "source": [
        "english_sentences=shuffled_list2\n",
        "marathi_sentences=shuffled_list1"
      ],
      "metadata": {
        "id": "HM8hTavyiDO-"
      },
      "execution_count": 17,
      "outputs": []
    },
    {
      "cell_type": "code",
      "source": [
        "d_model=512\n",
        "batch_size=30\n",
        "ffn_hidden=2048\n",
        "num_heads=8\n",
        "num_layers=6\n",
        "dropout=0.1\n",
        "max_sequence_length=200\n",
        "marathi_vocabulary_size=len(marathi_vocabulary)\n",
        "english_vocabulary_size=len(english_vocabulary)\n"
      ],
      "metadata": {
        "id": "fQkp1t6qjQZE"
      },
      "execution_count": 18,
      "outputs": []
    },
    {
      "cell_type": "code",
      "source": [
        "transformer=Transformer(d_model,\n",
        "                        ffn_hidden,\n",
        "                        num_heads\n",
        "                        ,dropout,\n",
        "                        num_layers,\n",
        "                        max_sequence_length,\n",
        "                        marathi_vocabulary_size,\n",
        "                        english_to_index,\n",
        "                        marathi_to_index,\n",
        "                        START_TOKEN,\n",
        "                        END_TOKEN,\n",
        "                        PADDING_TOKEN)"
      ],
      "metadata": {
        "id": "BIJqBPnIjlod"
      },
      "execution_count": 19,
      "outputs": []
    },
    {
      "cell_type": "code",
      "source": [
        "transformer"
      ],
      "metadata": {
        "colab": {
          "base_uri": "https://localhost:8080/"
        },
        "id": "Te0PZcp8kGYo",
        "outputId": "c30495dd-2170-4cb9-a2b9-8bef3a360539"
      },
      "execution_count": 20,
      "outputs": [
        {
          "output_type": "execute_result",
          "data": {
            "text/plain": [
              "Transformer(\n",
              "  (encoder): Encoder(\n",
              "    (sentence_embedding): SentenceEmbedding(\n",
              "      (embedding): Embedding(69, 512)\n",
              "      (position_encoder): PositionalEncoding()\n",
              "      (dropout): Dropout(p=0.1, inplace=False)\n",
              "    )\n",
              "    (layers): SequentialEncoder(\n",
              "      (0): EncoderLayer(\n",
              "        (attention): MultiHeadAttention(\n",
              "          (qkv_layer): Linear(in_features=512, out_features=1536, bias=True)\n",
              "          (linear_layer): Linear(in_features=512, out_features=512, bias=True)\n",
              "        )\n",
              "        (norm1): LayerNormalization()\n",
              "        (dropout1): Dropout(p=0.1, inplace=False)\n",
              "        (ffn): PositionwiseFeedForward(\n",
              "          (linear1): Linear(in_features=512, out_features=2048, bias=True)\n",
              "          (linear2): Linear(in_features=2048, out_features=512, bias=True)\n",
              "          (relu): ReLU()\n",
              "          (dropout): Dropout(p=0.1, inplace=False)\n",
              "        )\n",
              "        (norm2): LayerNormalization()\n",
              "        (dropout2): Dropout(p=0.1, inplace=False)\n",
              "      )\n",
              "      (1): EncoderLayer(\n",
              "        (attention): MultiHeadAttention(\n",
              "          (qkv_layer): Linear(in_features=512, out_features=1536, bias=True)\n",
              "          (linear_layer): Linear(in_features=512, out_features=512, bias=True)\n",
              "        )\n",
              "        (norm1): LayerNormalization()\n",
              "        (dropout1): Dropout(p=0.1, inplace=False)\n",
              "        (ffn): PositionwiseFeedForward(\n",
              "          (linear1): Linear(in_features=512, out_features=2048, bias=True)\n",
              "          (linear2): Linear(in_features=2048, out_features=512, bias=True)\n",
              "          (relu): ReLU()\n",
              "          (dropout): Dropout(p=0.1, inplace=False)\n",
              "        )\n",
              "        (norm2): LayerNormalization()\n",
              "        (dropout2): Dropout(p=0.1, inplace=False)\n",
              "      )\n",
              "      (2): EncoderLayer(\n",
              "        (attention): MultiHeadAttention(\n",
              "          (qkv_layer): Linear(in_features=512, out_features=1536, bias=True)\n",
              "          (linear_layer): Linear(in_features=512, out_features=512, bias=True)\n",
              "        )\n",
              "        (norm1): LayerNormalization()\n",
              "        (dropout1): Dropout(p=0.1, inplace=False)\n",
              "        (ffn): PositionwiseFeedForward(\n",
              "          (linear1): Linear(in_features=512, out_features=2048, bias=True)\n",
              "          (linear2): Linear(in_features=2048, out_features=512, bias=True)\n",
              "          (relu): ReLU()\n",
              "          (dropout): Dropout(p=0.1, inplace=False)\n",
              "        )\n",
              "        (norm2): LayerNormalization()\n",
              "        (dropout2): Dropout(p=0.1, inplace=False)\n",
              "      )\n",
              "      (3): EncoderLayer(\n",
              "        (attention): MultiHeadAttention(\n",
              "          (qkv_layer): Linear(in_features=512, out_features=1536, bias=True)\n",
              "          (linear_layer): Linear(in_features=512, out_features=512, bias=True)\n",
              "        )\n",
              "        (norm1): LayerNormalization()\n",
              "        (dropout1): Dropout(p=0.1, inplace=False)\n",
              "        (ffn): PositionwiseFeedForward(\n",
              "          (linear1): Linear(in_features=512, out_features=2048, bias=True)\n",
              "          (linear2): Linear(in_features=2048, out_features=512, bias=True)\n",
              "          (relu): ReLU()\n",
              "          (dropout): Dropout(p=0.1, inplace=False)\n",
              "        )\n",
              "        (norm2): LayerNormalization()\n",
              "        (dropout2): Dropout(p=0.1, inplace=False)\n",
              "      )\n",
              "      (4): EncoderLayer(\n",
              "        (attention): MultiHeadAttention(\n",
              "          (qkv_layer): Linear(in_features=512, out_features=1536, bias=True)\n",
              "          (linear_layer): Linear(in_features=512, out_features=512, bias=True)\n",
              "        )\n",
              "        (norm1): LayerNormalization()\n",
              "        (dropout1): Dropout(p=0.1, inplace=False)\n",
              "        (ffn): PositionwiseFeedForward(\n",
              "          (linear1): Linear(in_features=512, out_features=2048, bias=True)\n",
              "          (linear2): Linear(in_features=2048, out_features=512, bias=True)\n",
              "          (relu): ReLU()\n",
              "          (dropout): Dropout(p=0.1, inplace=False)\n",
              "        )\n",
              "        (norm2): LayerNormalization()\n",
              "        (dropout2): Dropout(p=0.1, inplace=False)\n",
              "      )\n",
              "      (5): EncoderLayer(\n",
              "        (attention): MultiHeadAttention(\n",
              "          (qkv_layer): Linear(in_features=512, out_features=1536, bias=True)\n",
              "          (linear_layer): Linear(in_features=512, out_features=512, bias=True)\n",
              "        )\n",
              "        (norm1): LayerNormalization()\n",
              "        (dropout1): Dropout(p=0.1, inplace=False)\n",
              "        (ffn): PositionwiseFeedForward(\n",
              "          (linear1): Linear(in_features=512, out_features=2048, bias=True)\n",
              "          (linear2): Linear(in_features=2048, out_features=512, bias=True)\n",
              "          (relu): ReLU()\n",
              "          (dropout): Dropout(p=0.1, inplace=False)\n",
              "        )\n",
              "        (norm2): LayerNormalization()\n",
              "        (dropout2): Dropout(p=0.1, inplace=False)\n",
              "      )\n",
              "    )\n",
              "  )\n",
              "  (decoder): Decoder(\n",
              "    (sentence_embedding): SentenceEmbedding(\n",
              "      (embedding): Embedding(106, 512)\n",
              "      (position_encoder): PositionalEncoding()\n",
              "      (dropout): Dropout(p=0.1, inplace=False)\n",
              "    )\n",
              "    (layers): SequentialDecoder(\n",
              "      (0): DecoderLayer(\n",
              "        (self_attention): MultiHeadAttention(\n",
              "          (qkv_layer): Linear(in_features=512, out_features=1536, bias=True)\n",
              "          (linear_layer): Linear(in_features=512, out_features=512, bias=True)\n",
              "        )\n",
              "        (layer_norm1): LayerNormalization()\n",
              "        (dropout1): Dropout(p=0.1, inplace=False)\n",
              "        (encoder_decoder_attention): MultiHeadCrossAttention(\n",
              "          (kv_layer): Linear(in_features=512, out_features=1024, bias=True)\n",
              "          (q_layer): Linear(in_features=512, out_features=512, bias=True)\n",
              "          (linear_layer): Linear(in_features=512, out_features=512, bias=True)\n",
              "        )\n",
              "        (layer_norm2): LayerNormalization()\n",
              "        (dropout2): Dropout(p=0.1, inplace=False)\n",
              "        (ffn): PositionwiseFeedForward(\n",
              "          (linear1): Linear(in_features=512, out_features=2048, bias=True)\n",
              "          (linear2): Linear(in_features=2048, out_features=512, bias=True)\n",
              "          (relu): ReLU()\n",
              "          (dropout): Dropout(p=0.1, inplace=False)\n",
              "        )\n",
              "        (layer_norm3): LayerNormalization()\n",
              "        (dropout3): Dropout(p=0.1, inplace=False)\n",
              "      )\n",
              "      (1): DecoderLayer(\n",
              "        (self_attention): MultiHeadAttention(\n",
              "          (qkv_layer): Linear(in_features=512, out_features=1536, bias=True)\n",
              "          (linear_layer): Linear(in_features=512, out_features=512, bias=True)\n",
              "        )\n",
              "        (layer_norm1): LayerNormalization()\n",
              "        (dropout1): Dropout(p=0.1, inplace=False)\n",
              "        (encoder_decoder_attention): MultiHeadCrossAttention(\n",
              "          (kv_layer): Linear(in_features=512, out_features=1024, bias=True)\n",
              "          (q_layer): Linear(in_features=512, out_features=512, bias=True)\n",
              "          (linear_layer): Linear(in_features=512, out_features=512, bias=True)\n",
              "        )\n",
              "        (layer_norm2): LayerNormalization()\n",
              "        (dropout2): Dropout(p=0.1, inplace=False)\n",
              "        (ffn): PositionwiseFeedForward(\n",
              "          (linear1): Linear(in_features=512, out_features=2048, bias=True)\n",
              "          (linear2): Linear(in_features=2048, out_features=512, bias=True)\n",
              "          (relu): ReLU()\n",
              "          (dropout): Dropout(p=0.1, inplace=False)\n",
              "        )\n",
              "        (layer_norm3): LayerNormalization()\n",
              "        (dropout3): Dropout(p=0.1, inplace=False)\n",
              "      )\n",
              "      (2): DecoderLayer(\n",
              "        (self_attention): MultiHeadAttention(\n",
              "          (qkv_layer): Linear(in_features=512, out_features=1536, bias=True)\n",
              "          (linear_layer): Linear(in_features=512, out_features=512, bias=True)\n",
              "        )\n",
              "        (layer_norm1): LayerNormalization()\n",
              "        (dropout1): Dropout(p=0.1, inplace=False)\n",
              "        (encoder_decoder_attention): MultiHeadCrossAttention(\n",
              "          (kv_layer): Linear(in_features=512, out_features=1024, bias=True)\n",
              "          (q_layer): Linear(in_features=512, out_features=512, bias=True)\n",
              "          (linear_layer): Linear(in_features=512, out_features=512, bias=True)\n",
              "        )\n",
              "        (layer_norm2): LayerNormalization()\n",
              "        (dropout2): Dropout(p=0.1, inplace=False)\n",
              "        (ffn): PositionwiseFeedForward(\n",
              "          (linear1): Linear(in_features=512, out_features=2048, bias=True)\n",
              "          (linear2): Linear(in_features=2048, out_features=512, bias=True)\n",
              "          (relu): ReLU()\n",
              "          (dropout): Dropout(p=0.1, inplace=False)\n",
              "        )\n",
              "        (layer_norm3): LayerNormalization()\n",
              "        (dropout3): Dropout(p=0.1, inplace=False)\n",
              "      )\n",
              "      (3): DecoderLayer(\n",
              "        (self_attention): MultiHeadAttention(\n",
              "          (qkv_layer): Linear(in_features=512, out_features=1536, bias=True)\n",
              "          (linear_layer): Linear(in_features=512, out_features=512, bias=True)\n",
              "        )\n",
              "        (layer_norm1): LayerNormalization()\n",
              "        (dropout1): Dropout(p=0.1, inplace=False)\n",
              "        (encoder_decoder_attention): MultiHeadCrossAttention(\n",
              "          (kv_layer): Linear(in_features=512, out_features=1024, bias=True)\n",
              "          (q_layer): Linear(in_features=512, out_features=512, bias=True)\n",
              "          (linear_layer): Linear(in_features=512, out_features=512, bias=True)\n",
              "        )\n",
              "        (layer_norm2): LayerNormalization()\n",
              "        (dropout2): Dropout(p=0.1, inplace=False)\n",
              "        (ffn): PositionwiseFeedForward(\n",
              "          (linear1): Linear(in_features=512, out_features=2048, bias=True)\n",
              "          (linear2): Linear(in_features=2048, out_features=512, bias=True)\n",
              "          (relu): ReLU()\n",
              "          (dropout): Dropout(p=0.1, inplace=False)\n",
              "        )\n",
              "        (layer_norm3): LayerNormalization()\n",
              "        (dropout3): Dropout(p=0.1, inplace=False)\n",
              "      )\n",
              "      (4): DecoderLayer(\n",
              "        (self_attention): MultiHeadAttention(\n",
              "          (qkv_layer): Linear(in_features=512, out_features=1536, bias=True)\n",
              "          (linear_layer): Linear(in_features=512, out_features=512, bias=True)\n",
              "        )\n",
              "        (layer_norm1): LayerNormalization()\n",
              "        (dropout1): Dropout(p=0.1, inplace=False)\n",
              "        (encoder_decoder_attention): MultiHeadCrossAttention(\n",
              "          (kv_layer): Linear(in_features=512, out_features=1024, bias=True)\n",
              "          (q_layer): Linear(in_features=512, out_features=512, bias=True)\n",
              "          (linear_layer): Linear(in_features=512, out_features=512, bias=True)\n",
              "        )\n",
              "        (layer_norm2): LayerNormalization()\n",
              "        (dropout2): Dropout(p=0.1, inplace=False)\n",
              "        (ffn): PositionwiseFeedForward(\n",
              "          (linear1): Linear(in_features=512, out_features=2048, bias=True)\n",
              "          (linear2): Linear(in_features=2048, out_features=512, bias=True)\n",
              "          (relu): ReLU()\n",
              "          (dropout): Dropout(p=0.1, inplace=False)\n",
              "        )\n",
              "        (layer_norm3): LayerNormalization()\n",
              "        (dropout3): Dropout(p=0.1, inplace=False)\n",
              "      )\n",
              "      (5): DecoderLayer(\n",
              "        (self_attention): MultiHeadAttention(\n",
              "          (qkv_layer): Linear(in_features=512, out_features=1536, bias=True)\n",
              "          (linear_layer): Linear(in_features=512, out_features=512, bias=True)\n",
              "        )\n",
              "        (layer_norm1): LayerNormalization()\n",
              "        (dropout1): Dropout(p=0.1, inplace=False)\n",
              "        (encoder_decoder_attention): MultiHeadCrossAttention(\n",
              "          (kv_layer): Linear(in_features=512, out_features=1024, bias=True)\n",
              "          (q_layer): Linear(in_features=512, out_features=512, bias=True)\n",
              "          (linear_layer): Linear(in_features=512, out_features=512, bias=True)\n",
              "        )\n",
              "        (layer_norm2): LayerNormalization()\n",
              "        (dropout2): Dropout(p=0.1, inplace=False)\n",
              "        (ffn): PositionwiseFeedForward(\n",
              "          (linear1): Linear(in_features=512, out_features=2048, bias=True)\n",
              "          (linear2): Linear(in_features=2048, out_features=512, bias=True)\n",
              "          (relu): ReLU()\n",
              "          (dropout): Dropout(p=0.1, inplace=False)\n",
              "        )\n",
              "        (layer_norm3): LayerNormalization()\n",
              "        (dropout3): Dropout(p=0.1, inplace=False)\n",
              "      )\n",
              "    )\n",
              "  )\n",
              "  (linear): Linear(in_features=512, out_features=108, bias=True)\n",
              ")"
            ]
          },
          "metadata": {},
          "execution_count": 20
        }
      ]
    },
    {
      "cell_type": "code",
      "source": [
        "from torch.utils.data import DataLoader, Dataset\n",
        "\n",
        "class TextDataset(Dataset):\n",
        "  def __init__(self, english_sentences, marathi_sentences):\n",
        "    self.english_sentences = english_sentences\n",
        "    self.marathi_sentences = marathi_sentences\n",
        "  def __len__(self):\n",
        "    return len(self.english_sentences)\n",
        "\n",
        "  def __getitem__(self, idx):\n",
        "    english_sentence = self.english_sentences[idx]\n",
        "    marathi_sentence = self.marathi_sentences[idx]\n",
        "    return english_sentence, marathi_sentence\n",
        ""
      ],
      "metadata": {
        "id": "7qThcI_ekIpH"
      },
      "execution_count": 21,
      "outputs": []
    },
    {
      "cell_type": "code",
      "source": [
        "dataset=TextDataset(english_sentences,marathi_sentences)"
      ],
      "metadata": {
        "id": "2-gdR_XZkxO-"
      },
      "execution_count": 22,
      "outputs": []
    },
    {
      "cell_type": "code",
      "source": [
        "len(dataset)"
      ],
      "metadata": {
        "colab": {
          "base_uri": "https://localhost:8080/"
        },
        "id": "HVIDD9QKk0Pu",
        "outputId": "0aa092c3-f454-49d0-d318-4b5c650bdb63"
      },
      "execution_count": 23,
      "outputs": [
        {
          "output_type": "execute_result",
          "data": {
            "text/plain": [
              "30226"
            ]
          },
          "metadata": {},
          "execution_count": 23
        }
      ]
    },
    {
      "cell_type": "code",
      "source": [
        "dataset[1]"
      ],
      "metadata": {
        "colab": {
          "base_uri": "https://localhost:8080/"
        },
        "id": "w3Bzg8auk2F7",
        "outputId": "f648b74b-ea9b-494b-8ad8-7e871c084897"
      },
      "execution_count": 24,
      "outputs": [
        {
          "output_type": "execute_result",
          "data": {
            "text/plain": [
              "('take my name off the list', 'माझं नाव यादीवरून काढून टाक')"
            ]
          },
          "metadata": {},
          "execution_count": 24
        }
      ]
    },
    {
      "cell_type": "code",
      "source": [
        "train_loader = DataLoader(dataset, batch_size=batch_size)"
      ],
      "metadata": {
        "id": "lrJVsWf0k4Ij"
      },
      "execution_count": 25,
      "outputs": []
    },
    {
      "cell_type": "code",
      "source": [
        "iterator=iter(train_loader)"
      ],
      "metadata": {
        "id": "7xOvsiIxk8kc"
      },
      "execution_count": 26,
      "outputs": []
    },
    {
      "cell_type": "code",
      "source": [
        "for batch_num,batch in enumerate(iterator):\n",
        "    print(batch)\n",
        "    if batch_num>2:\n",
        "        break"
      ],
      "metadata": {
        "colab": {
          "base_uri": "https://localhost:8080/"
        },
        "id": "Os9DlTUllDB7",
        "outputId": "128dcdd1-ace9-44df-947a-72fff18ddb03"
      },
      "execution_count": 27,
      "outputs": [
        {
          "output_type": "stream",
          "name": "stdout",
          "text": [
            "[('i am getting tired of losing', 'take my name off the list', 'do not talk to me', 'who is the manager', 'what time do you go to bed', 'has anybody come', 'i just do not understand', 'this makes me very angry', 'law and politics are two different things', 'some of the dogs are alive', 'i was not mad at you', 'she committed suicide by taking poison', 'what comes first', 'what did bell invent', 'ah how beautiful the taj mahal is', 'we drove them out', 'i am eating noodles', 'have you ever been to mexico', 'how does your brother', 'criminals should be punished', 'they got married', 'those are my books', 'what are you playing', 'the meeting ended at  pm', 'they gave it to me', 'give me another example', 'i have been married three times', 'is it dangerous', 'it burned', 'the bridge was built by the romans'), ('मला सतत हरण्याचा कंटाळा येतोय', 'माझं नाव यादीवरून काढून टाक', 'माझ्याशी बोलू नका', 'व्यवस्थापक कोण आहे', 'किती वाजता झोपायला जातोस', 'कोणी आलं आहे का', 'मला तर कळतच नाहीये', 'याने मला खूप राग येतो', 'कायदा व राजकारण ह्या दोन वेगळ्या गोष्टी असतात', 'काही कुत्रे जिवंत आहेत', 'मी तुमच्यावर रागावले नव्हते', 'तिने विष घेऊन आत्महत्या केली', 'आधी काय येतं', 'बेलने कश्याचा शोध केलेला', 'वाह ताज महाल किती सुंदर आहे', 'आम्ही त्यांना पळवून लावलं', 'मी नूडल्स खातोय', 'तुम्ही कधी मेक्सिकोला गेला आहात का', 'तुझा भाऊ कसा आहे', 'गुन्हेगारांना शिक्षा झालीच पाहिजे', 'त्यांनी लग्न केलं', 'ती माझी पुस्तकं आहेत', 'तू काय खेळत आहेस', 'मीटिंग दुपारी  वाजता संपली', 'तिने मला दिलं', 'मला आणखीन एक उदाहरण दे', 'माझं तीन वेळा लग्न झालं आहे', 'धोकादायक आहे का', 'जळला', 'हा पूल रोमनांने बांधलेला')]\n",
            "[('i can run', 'come meet everybody', 'i am letting you go', 'do whatever you like', 'quit gambling', 'are you illiterate', 'i do not want to eat with you', 'we went to church every sunday when we were in america', 'i liked it a lot', 'the teacher taught them that the earth is round', 'you are important', 'the important thing is to participate', 'buy tofu on your way home', 'this is my brother', 'can his story be true', 'i can get a gun for you within five hours', 'the lid is closed', 'there is something on the floor', 'i want the blanket', 'i drink a glass of milk every morning', 'it was my fault', 'we went to the river', 'lots of people make that mistake', 'i want my children back', 'most of our money goes for food', 'what is your favorite screen saver', 'where does your grandfather live', 'are you coming back tonight', 'give me three months', 'she burned her left hand'), ('मला धावता येतं', 'ये सर्वांना भेट', 'मी तुम्हाला सोडतोय', 'तुम्हाला जे काही करायचं असेल तसं करा', 'जुगार सोडून द्या', 'तू निरक्षर आहेस का', 'मला तुमच्याबरोबर खायचं नाहीये', 'अमेरिकेत असताना आम्ही दर रविवारी चर्चला जायचो', 'मला खूप आवडला', 'शिक्षकाने त्यांना शिकवलं की पृथ्वी गोलाकार आहे', 'तू महत्त्वपूर्ण आहेस', 'महत्त्वाची गोष्ट म्हणजे भाग घेणे', 'घरी येताना टोफू विकत घेऊन ये', 'ते माझे भाऊ आहेत', 'त्याची गोष्ट खरी असू शकते का', 'मी तुला पाच तासांच्या आत एक बंदूक आणून देऊ शकतो', 'झाकण बंद आहे', 'जमिनीवर काहीतरी आहे', 'मला चादर हवी आहे', 'मी प्रत्येक सकाळी एक ग्लास दूध पितो', 'माझी चूक होती', 'आम्ही नदीकडे गेलो', 'ती चूक भरपूर लोकं करतात', 'मला माझी मुलं परत हवी आहेत', 'आमचा बहुतंतु पैसा खाण्यासाठी खर्च होतो', 'तुझा आवडता स्क्रीनसेव्हर कोणता आहे', 'तुझे आजोबा कुठे राहतात', 'तू आज रात्री परत येणार आहेस का', 'मला तीन महिने दे', 'तिने तिचा डावा हात भाजला')]\n",
            "[('what is your favorite website', 'actually i did want to ask you one thing', 'yours is over there', 'i talked', 'at the time we were just fifteen years old', 'they are not mine', 'what is that flower', 'did you like the book', 'i want to write an article', 'if you turn to the left you will find the church on your right', 'the balloon will burst', 'he has a bicycle', 'who is resigning', 'i did not come here yesterday', 'this is weird', 'i eat here every day', 'you betrayed your country', 'he understands french', 'she just left', 'if you take this medicine you will feel better', 'get some sleep', 'do not leave your work half done', 'if you get sleepy just tell me', 'she cooked some fish for me', 'french is my native language', 'back off', 'i have not committed a crime', 'i swear to god i did not do anything', 'i collect dolls from different countries', 'my mother is a lawyer'), ('तुमची आवडीची वेबसाईट कोणती आहे', 'खरं तर मला तुला एक गोष्ट विचारायची होती', 'तुझा तिथे आहे', 'मी बोलले', 'त्यावेळी आम्ही तर फक्त पंधरा वर्षाचे होतो', 'त्या माझ्या नाहीयेत', 'ते कोणतं फूल आहे', 'तुला ते पुस्तक आवडलं का', 'मला एक लेख लिहायचा आहे', 'डाव्या बाजूला वळलात की तुम्हाला चर्च उजव्या बाजूला सापडेल', 'फुगा फुटेल', 'त्यांच्याकडे एक सायकल आहे', 'राजीनामा कोण देतंय', 'मी काल इथे आलो नव्हते', 'हे विचित्र आहे', 'मी दररोज इथे जेवते', 'तू तुझ्या देशाशी गद्दारी केलीस', 'त्यांना फ्रेंच समजते', 'ती आत्ताच निघाली', 'हे औषध घेतलंस तर तुला बरं वाटेल', 'थोडी झोप काढ', 'आपलं काम अर्धवट सोडू नका', 'झोप यायला लागली तर मला फक्त मला सांग', 'तिने माझ्यासाठी थोडेसे मासे शिजवले', 'फ्रेंच माझी मातृभाषा आहे', 'हट', 'मी गुन्हा केला नाहीये', 'मी देवाशप्पथ सांगतो मी काहीही केलं नाही', 'मी वेगवेगळ्या देशांच्या बाहुल्या गोळा करतो', 'माझी आई वकील आहे')]\n",
            "[('it makes no difference whether you go today or tomorrow', 'i want my job back', 'why did no one tell me about this', 'what could that mean', 'i am as strong as you', 'i have not read it', 'i will give you a book', 'he is japanese', 'i have decided not to go', 'it is cold today', 'may i turn down the tv', 'they are our friends', 'you are lying', 'we went to the play yesterday', 'his ideas are difficult to understand', 'i really just want to talk', 'he can play a flute', 'he knows how to clean his rifle', 'i make my own rules', 'let me repair it', 'i will be here tomorrow', 'we translated the novel from japanese into english', 'i do not want to walk home alone', 'where is your gun', 'did you see yesterdays episode', 'where is the butter', 'they close the door at five', 'you get used to it', 'we have no more information', 'do you like my friend'), ('आज गेलीस काय आणि उद्या गेलीस काय काही फरक पडत नाही', 'मला माझी नोकरी परत हवे आहे', 'मला याबद्दल कोणी सांगितलं का नाही', 'त्याचा काय अर्थ असू शकतो', 'मी तुमच्याइतका बलवान आहे', 'मी वाचला नाहीये', 'तुला एक पुस्तक देते', 'तो जपानी आहे', 'मी नाही जायचं ठरवलं आहे', 'आज थंड आहे', 'टीव्हीचा आवाज कमी केला तर चालेल का', 'त्या आमच्या मैत्रिणी आहेत', 'तू खोटं बोलतेयस', 'आम्ही काल नाटकाला गेलो', 'त्याच्या कल्पना समजायला कठीण आहेत', 'मला खरच फक्त बोलायचं आहे', 'ते बासरी वाजवू शकतात', 'त्याला आपली रायफल साफ करता येते', 'मी स्वतःचेच नियम बनवते', 'मला दुरुस्त करू द्या', 'मी इथे उद्या असेन', 'आपण त्या कादंबरीचा जपानीपासून इंग्रजीत अनुवाद केला', 'मला एकट्याने घरी चालत जायचं नाहीये', 'तुझी बंदूक कुठेय', 'कालचा एपिसोड पाहिलात का', 'बटर कुठे आहे', 'त्या पाचला दरवाजा बंद करतात', 'सवय होऊन जाते', 'आपल्याकडे अजून माहिती नाहीये', 'तुम्हाला माझी मैत्रिण आवडते का')]\n"
          ]
        }
      ]
    },
    {
      "cell_type": "code",
      "source": [
        "from torch import nn\n",
        "criterian=nn.CrossEntropyLoss(ignore_index=marathi_to_index[PADDING_TOKEN],reduction='none')"
      ],
      "metadata": {
        "id": "a71teKVOlLEo"
      },
      "execution_count": 28,
      "outputs": []
    },
    {
      "cell_type": "code",
      "source": [
        "for params in transformer.parameters():\n",
        "    if params.dim()>1:\n",
        "      nn.init.xavier_uniform_(params)\n",
        "optim=torch.optim.Adam(transformer.parameters(),lr=1e-4)\n",
        "device=torch.device('cuda' if torch.cuda.is_available() else 'cpu')"
      ],
      "metadata": {
        "id": "H2kwLMsMldGw"
      },
      "execution_count": 29,
      "outputs": []
    },
    {
      "cell_type": "code",
      "source": [
        "NEG_INFTY=-1e9\n",
        "\n",
        "def create_masks(eng_batch,mar_batch):\n",
        "    num_senrences=len(eng_batch)\n",
        "    look_ahead_mask=torch.full([max_sequence_length,max_sequence_length],True)\n",
        "    look_ahead_mask=torch.triu(look_ahead_mask,diagonal=1)\n",
        "    encoder_padding_mask=torch.full([num_senrences,max_sequence_length,max_sequence_length],False)\n",
        "    decoder_padding_mask_self_attention=torch.full([num_senrences,max_sequence_length,max_sequence_length],False)\n",
        "    decoder_padding_mask_cross_attention=torch.full([num_senrences,max_sequence_length,max_sequence_length],False)\n",
        "    for idx in range(num_senrences):\n",
        "      eng_sentence_length, mar_sentence_length = len(eng_batch[idx]), len(mar_batch[idx])\n",
        "      eng_chars_to_padding_mask = np.arange(eng_sentence_length + 1, max_sequence_length)\n",
        "      mar_chars_to_padding_mask = np.arange(mar_sentence_length + 1, max_sequence_length)\n",
        "      encoder_padding_mask[idx, :, eng_chars_to_padding_mask] = True\n",
        "      encoder_padding_mask[idx, eng_chars_to_padding_mask, :] = True\n",
        "      decoder_padding_mask_self_attention[idx, :, mar_chars_to_padding_mask] = True\n",
        "      decoder_padding_mask_self_attention[idx, mar_chars_to_padding_mask, :] = True\n",
        "      decoder_padding_mask_cross_attention[idx, :, eng_chars_to_padding_mask] = True\n",
        "      decoder_padding_mask_cross_attention[idx, mar_chars_to_padding_mask, :] = True\n",
        "\n",
        "    encoder_self_attention_mask = torch.where(encoder_padding_mask, NEG_INFTY, 0)\n",
        "    decoder_self_attention_mask =  torch.where(look_ahead_mask + decoder_padding_mask_self_attention, NEG_INFTY, 0)\n",
        "    decoder_cross_attention_mask = torch.where(decoder_padding_mask_cross_attention, NEG_INFTY, 0)\n",
        "    return encoder_self_attention_mask, decoder_self_attention_mask, decoder_cross_attention_mask\n",
        ""
      ],
      "metadata": {
        "id": "iukzgJ96l5BO"
      },
      "execution_count": 30,
      "outputs": []
    },
    {
      "cell_type": "code",
      "source": [
        "transformer.train()\n",
        "transformer.to(device)\n",
        "total_loss = 0\n",
        "num_epochs = 10\n",
        "\n",
        "\n",
        "for epoch in range(num_epochs):\n",
        "  print(\"Epoch: \",epoch)\n",
        "  for batch_num,batch in enumerate(train_loader):\n",
        "    eng_batch,mar_batch=batch\n",
        "    transformer.train()\n",
        "    encoder_self_attention_mask, decoder_self_attention_mask, decoder_cross_attention_mask = create_masks(eng_batch,mar_batch)\n",
        "    optim.zero_grad()\n",
        "    mar_preds=transformer(eng_batch,mar_batch,\n",
        "                          encoder_self_attention_mask.to(device),\\\n",
        "                          decoder_self_attention_mask.to(device),\\\n",
        "                          decoder_cross_attention_mask.to(device),\\\n",
        "                          enc_start_token=False,\\\n",
        "                          enc_end_token=False,\\\n",
        "                          dec_start_token=True,\\\n",
        "                          dec_end_token=True)\n",
        "    labels=transformer.decoder.sentence_embedding.batch_tokenize(mar_batch,start_token=False,end_token=True)\n",
        "    loss=criterian(mar_preds.view(-1,marathi_vocabulary_size).to(device),\n",
        "                   labels.view(-1).to(device)).to(device)\n",
        "    valid_indicies=torch.where(labels.view(-1)==marathi_to_index[PADDING_TOKEN],False,True)\n",
        "\n",
        "    loss = loss.sum() / valid_indicies.sum()\n",
        "    loss.backward()\n",
        "    optim.step()\n",
        "\n",
        "    if batch_num % 100 == 0:\n",
        "      print(f\"Iteration {batch_num} : {loss.item()}\")\n",
        "      print(f\"English: {eng_batch[0]}\")\n",
        "      print(f\"Kannada Translation: {mar_batch[0]}\")\n",
        "      mar_sentence_predicted = torch.argmax(mar_preds[0], axis=1)\n",
        "      predicted_sentence = \"\"\n",
        "      for idx in mar_sentence_predicted:\n",
        "        if idx == marathi_to_index[END_TOKEN]:\n",
        "          break\n",
        "        predicted_sentence += index_to_marathi_word[idx.item()]\n",
        "      print(f\"Kannada Prediction: {predicted_sentence}\")\n",
        "\n",
        "\n",
        "      transformer.eval()\n",
        "      mar_sentence = (\"\",)\n",
        "      eng_sentence = (\"should we go to the mall?\",)\n",
        "      for word_counter in range(max_sequence_length):\n",
        "          encoder_self_attention_mask, decoder_self_attention_mask, decoder_cross_attention_mask= create_masks(eng_sentence, mar_sentence)\n",
        "          predictions = transformer(eng_sentence,\n",
        "                                    mar_sentence,\n",
        "                                    encoder_self_attention_mask.to(device),\n",
        "                                    decoder_self_attention_mask.to(device),\n",
        "                                    decoder_cross_attention_mask.to(device),\n",
        "                                    enc_start_token=False,\n",
        "                                    enc_end_token=False,\n",
        "                                    dec_start_token=True,\n",
        "                                    dec_end_token=False)\n",
        "          next_token_prob_distribution = predictions[0][word_counter] # not actual probs\n",
        "          next_token_index = torch.argmax(next_token_prob_distribution).item()\n",
        "          next_token = index_to_marathi_word[next_token_index]\n",
        "          kn_sentence = (mar_sentence[0] + next_token, )\n",
        "          if next_token == END_TOKEN:\n",
        "            break\n",
        "\n",
        "      print(f\"Evaluation translation (should we go to the mall?) : {kn_sentence}\")\n",
        "      print(\"-------------------------------------------\")"
      ],
      "metadata": {
        "colab": {
          "base_uri": "https://localhost:8080/",
          "height": 305
        },
        "id": "lPZ1pLbtn1QW",
        "outputId": "b947cfa7-453e-4409-a924-fdd4b7ac7219"
      },
      "execution_count": 25,
      "outputs": [
        {
          "output_type": "stream",
          "name": "stdout",
          "text": [
            "Epoch:  0\n"
          ]
        },
        {
          "output_type": "error",
          "ename": "RuntimeError",
          "evalue": "CUDA error: device-side assert triggered\nCUDA kernel errors might be asynchronously reported at some other API call, so the stacktrace below might be incorrect.\nFor debugging consider passing CUDA_LAUNCH_BLOCKING=1\nCompile with `TORCH_USE_CUDA_DSA` to enable device-side assertions.\n",
          "traceback": [
            "\u001b[0;31m---------------------------------------------------------------------------\u001b[0m",
            "\u001b[0;31mRuntimeError\u001b[0m                              Traceback (most recent call last)",
            "\u001b[0;32m<ipython-input-25-30878bef634f>\u001b[0m in \u001b[0;36m<cell line: 7>\u001b[0;34m()\u001b[0m\n\u001b[1;32m     13\u001b[0m     \u001b[0moptim\u001b[0m\u001b[0;34m.\u001b[0m\u001b[0mzero_grad\u001b[0m\u001b[0;34m(\u001b[0m\u001b[0;34m)\u001b[0m\u001b[0;34m\u001b[0m\u001b[0;34m\u001b[0m\u001b[0m\n\u001b[1;32m     14\u001b[0m     mar_preds=transformer(eng_batch,mar_batch,\n\u001b[0;32m---> 15\u001b[0;31m                           \u001b[0mencoder_self_attention_mask\u001b[0m\u001b[0;34m.\u001b[0m\u001b[0mto\u001b[0m\u001b[0;34m(\u001b[0m\u001b[0mdevice\u001b[0m\u001b[0;34m)\u001b[0m\u001b[0;34m,\u001b[0m\u001b[0;31m\\\u001b[0m\u001b[0;34m\u001b[0m\u001b[0;34m\u001b[0m\u001b[0m\n\u001b[0m\u001b[1;32m     16\u001b[0m                           \u001b[0mdecoder_self_attention_mask\u001b[0m\u001b[0;34m.\u001b[0m\u001b[0mto\u001b[0m\u001b[0;34m(\u001b[0m\u001b[0mdevice\u001b[0m\u001b[0;34m)\u001b[0m\u001b[0;34m,\u001b[0m\u001b[0;31m\\\u001b[0m\u001b[0;34m\u001b[0m\u001b[0;34m\u001b[0m\u001b[0m\n\u001b[1;32m     17\u001b[0m                           \u001b[0mdecoder_cross_attention_mask\u001b[0m\u001b[0;34m.\u001b[0m\u001b[0mto\u001b[0m\u001b[0;34m(\u001b[0m\u001b[0mdevice\u001b[0m\u001b[0;34m)\u001b[0m\u001b[0;34m,\u001b[0m\u001b[0;31m\\\u001b[0m\u001b[0;34m\u001b[0m\u001b[0;34m\u001b[0m\u001b[0m\n",
            "\u001b[0;31mRuntimeError\u001b[0m: CUDA error: device-side assert triggered\nCUDA kernel errors might be asynchronously reported at some other API call, so the stacktrace below might be incorrect.\nFor debugging consider passing CUDA_LAUNCH_BLOCKING=1\nCompile with `TORCH_USE_CUDA_DSA` to enable device-side assertions.\n"
          ]
        }
      ]
    },
    {
      "cell_type": "code",
      "source": [],
      "metadata": {
        "id": "OVPp8dLkwDeR"
      },
      "execution_count": null,
      "outputs": []
    }
  ]
}